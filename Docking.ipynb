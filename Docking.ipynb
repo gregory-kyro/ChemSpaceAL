{
  "cells": [
    {
      "cell_type": "markdown",
      "metadata": {},
      "source": [
        "### Set up notebook"
      ]
    },
    {
      "cell_type": "code",
      "execution_count": null,
      "metadata": {
        "colab": {
          "base_uri": "https://localhost:8080/"
        },
        "id": "2bqkvwue0-yK",
        "outputId": "36fe11ae-e3e9-4c79-b985-1f3730c79c51"
      },
      "outputs": [],
      "source": [
        "# Mount Google Drive\n",
        "from google.colab import drive\n",
        "drive.mount('/content/drive', force_remount=True)\n",
        "\n",
        "# Import necessary packages and modules\n",
        "import torch\n",
        "import os\n",
        "from rdkit import Chem\n",
        "import shutil\n",
        "import pandas as pd\n",
        "from tqdm import tqdm\n",
        "\n",
        "# Install necessary packages if they are not present\n",
        "try:\n",
        "    import biopandas\n",
        "except:\n",
        "    !pip install pyg==0.7.1 --quiet\n",
        "    !pip install pyyaml==6.0 --quiet\n",
        "    !pip install scipy==1.7.3 --quiet\n",
        "    !pip install networkx==2.6.3 --quiet\n",
        "    !pip install biopython==1.79 --quiet\n",
        "    !pip install rdkit-pypi==2022.03.5 --quiet\n",
        "    !pip install e3nn==0.5.0 --quiet\n",
        "    !pip install spyrmsd==0.5.2 --quiet\n",
        "    !pip install pandas==1.5.3 --quiet\n",
        "    !pip install biopandas==0.4.1 --quiet\n",
        "\n",
        "\n",
        "# Install PyTorch geometric dependencies if not already present\n",
        "try:\n",
        "    import torch_geometric\n",
        "except ModuleNotFoundError:\n",
        "    !pip uninstall torch-scatter torch-sparse torch-geometric torch-cluster --y\n",
        "    !pip install torch-scatter -f https://data.pyg.org/whl/torch-{torch.__version__}.html --quiet\n",
        "    !pip install torch-sparse -f https://data.pyg.org/whl/torch-{torch.__version__}.html --quiet\n",
        "    !pip install torch-cluster -f https://data.pyg.org/whl/torch-{torch.__version__}.html --quiet\n",
        "    !pip install git+https://github.com/pyg-team/pytorch_geometric.git --quiet\n",
        "\n",
        "\n",
        "# Clone DiffDock repository if not already present\n",
        "if not os.path.exists(\"/content/DiffDock\"):\n",
        "    os.chdir('/content')\n",
        "    !git clone https://github.com/gcorso/DiffDock.git\n",
        "    os.chdir('/content/DiffDock')\n",
        "    # Use a specific version for consistency\n",
        "    !git checkout a6c5275\n",
        "\n",
        "\n",
        "# Clone ESM repository inside DiffDock if not already present\n",
        "if not os.path.exists(\"/content/DiffDock/esm\"):\n",
        "    os.chdir('/content/DiffDock')\n",
        "    !git clone https://github.com/facebookresearch/esm\n",
        "    os.chdir('/content/DiffDock/esm')\n",
        "    # Use a specific version for consistency\n",
        "    !git checkout ca8a710\n",
        "    # Install ESM\n",
        "    !sudo pip install -e .\n",
        "    os.chdir('/content/DiffDock')"
      ]
    },
    {
      "cell_type": "markdown",
      "metadata": {},
      "source": [
        "### Define paths"
      ]
    },
    {
      "cell_type": "code",
      "execution_count": null,
      "metadata": {
        "id": "4cdY4KbS0-yL"
      },
      "outputs": [],
      "source": [
        "# Ensure the directory for DiffDock results exists, if not, create it\n",
        "DIFFDOCK_RESULTS_PATH = \"/content/drive/MyDrive/results/\"\n",
        "if not os.path.exists(DIFFDOCK_RESULTS_PATH):\n",
        "    os.mkdir(DIFFDOCK_RESULTS_PATH)\n",
        "\n",
        "# Make sure the results directory exists\n",
        "assert os.path.exists(DIFFDOCK_RESULTS_PATH), f\"Directory {DIFFDOCK_RESULTS_PATH} doesn't exist!\"\n",
        "\n",
        "# Define the save path for DiffDock data\n",
        "DIFFDOCK_SAVE_PATH = \"/content/drive/Othercomputers/My Laptop/ChemSpaceAL/ChemSpaceAL_package/run_ChemSpaceAL/3. Sampling/diffdock.pkl\"\n",
        "\n",
        "# Initialize an empty list to store paths for scored results from DiffDock\n",
        "DIFFDOCK_SCORED_PATH_LIST = []\n",
        "\n",
        "# Path to the processed protein file\n",
        "PROTEIN_PATH = \"/content/drive/MyDrive/Generative_ML/current_data/4. DiffDock/proteins/HNH_processed.pdb\""
      ]
    },
    {
      "cell_type": "markdown",
      "metadata": {},
      "source": [
        "### Define necessary functions"
      ]
    },
    {
      "cell_type": "code",
      "execution_count": null,
      "metadata": {},
      "outputs": [],
      "source": [
        "def load_scored_mols(scored_path_list):\n",
        "    \"\"\"\n",
        "    Load the scores of molecules from given CSV paths.\n",
        "    \n",
        "    Args:\n",
        "    - scored_path_list (list): List of paths to CSV files containing molecular scores.\n",
        "\n",
        "    Returns:\n",
        "    - dict: Dictionary with molecule smiles as keys and their corresponding scores as values.\n",
        "    \"\"\"\n",
        "    scored_mols = {}\n",
        "    for scored_path in scored_path_list:\n",
        "        for _, row in pd.read_csv(scored_path).iterrows():\n",
        "            if row['smiles'] in scored_mols and scored_mols[row['smiles']] != row['score']:\n",
        "                print(f\"{row['smiles']} scored {row['score']} but was already scored {scored_mols[row['smiles']]}\")\n",
        "            scored_mols[row['smiles']] = row['score']\n",
        "    return scored_mols\n",
        "\n",
        "def count_new_samples(sampled_path, scored_set):\n",
        "    \"\"\"\n",
        "    Count and display the number of sampled molecules that were previously scored.\n",
        "    \n",
        "    Args:\n",
        "    - sampled_path (str): Path to the CSV file containing sampled molecules.\n",
        "    - scored_set (set): Set of previously scored molecule smiles.\n",
        "    \"\"\"\n",
        "    sampled_mols = set(pd.read_csv(sampled_path)['smiles'])\n",
        "    repeated = len(sampled_mols & scored_set)\n",
        "    print(f\"scored directory contains {len(scored_set)} unique molecules\")\n",
        "    print(f\"{repeated} out of {len(sampled_mols)} sampled molecules were already scored\")\n",
        "\n",
        "def get_top_poses(ligands_csv, protein_pdb_path, scored_set):\n",
        "    \"\"\"\n",
        "    Process ligands, generate embeddings, and run the DiffDock inference.\n",
        "    \n",
        "    Args:\n",
        "    - ligands_csv (str): Path to the CSV file containing ligands.\n",
        "    - protein_pdb_path (str): Path to the protein structure file.\n",
        "    - scored_set (set): Set of previously scored molecule smiles.\n",
        "\n",
        "    Returns:\n",
        "    - list: List of paths to ligand files.\n",
        "    \"\"\"\n",
        "    data = pd.read_csv(ligands_csv)\n",
        "    ligand_files = []\n",
        "\n",
        "    os.environ['HOME'] = 'esm/model_weights'\n",
        "    os.environ['PYTHONPATH'] = f'{os.environ.get(\"PYTHONPATH\", \"\")}:/content/DiffDock/esm'\n",
        "    \n",
        "    pbar = tqdm(range(len(data)), total=len(data))\n",
        "    for i in pbar:\n",
        "        smiles = data['smiles'][i]\n",
        "        if smiles in scored_set: \n",
        "            continue\n",
        "        rdkit_mol = Chem.MolFromSmiles(smiles)\n",
        "\n",
        "        if rdkit_mol is not None:\n",
        "            # Prepare input data for ESM\n",
        "            with open('/content/input_protein_ligand.csv', 'w') as out:\n",
        "                out.write('protein_path,ligand\\n')\n",
        "                out.write(f'{protein_pdb_path},{smiles}\\n')\n",
        "\n",
        "            # Remove previous results\n",
        "            shutil.rmtree('/content/DiffDock/results', ignore_errors=True)\n",
        "\n",
        "            # Generate ESM embeddings\n",
        "            os.chdir('/content/DiffDock')\n",
        "            !python /content/DiffDock/datasets/esm_embedding_preparation.py --protein_ligand_csv /content/input_protein_ligand.csv --out_file /content/DiffDock/data/prepared_for_esm.fasta\n",
        "            !python /content/DiffDock/esm/scripts/extract.py esm2_t33_650M_UR50D /content/DiffDock/data/prepared_for_esm.fasta /content/DiffDock/data/esm2_output --repr_layers 33 --include per_tok --truncation_seq_length 30000\n",
        "\n",
        "            # Run DiffDock inference\n",
        "            !python /content/DiffDock/inference.py --protein_ligand_csv /content/input_protein_ligand.csv --out_dir /content/DiffDock/results/user_predictions_small --inference_steps 20 --samples_per_complex 10 --batch_size 6\n",
        "\n",
        "            # Collect results\n",
        "            for root, _, files in os.walk('/content/DiffDock/results/user_predictions_small'):\n",
        "                for file in files:\n",
        "                    if file.startswith('rank1_confidence'):\n",
        "                        shutil.move(os.path.join(root, file), os.path.join(DIFFDOCK_RESULTS_PATH, f'complex{i}.sdf'))\n",
        "                        ligand_files.append(f'{DIFFDOCK_RESULTS_PATH}complex{i}.sdf')\n",
        "    return ligand_files"
      ]
    },
    {
      "cell_type": "markdown",
      "metadata": {},
      "source": [
        "### Run Diffdock"
      ]
    },
    {
      "cell_type": "code",
      "execution_count": null,
      "metadata": {
        "colab": {
          "base_uri": "https://localhost:8080/"
        },
        "id": "MRwcjlJ20-yL",
        "outputId": "18e43fd2-928f-44ab-d18d-2bcbab44b2c1"
      },
      "outputs": [],
      "source": [
        "# Load previously scored molecules\n",
        "scored_mols = load_scored_mols(DIFFDOCK_SCORED_PATH_LIST)\n",
        "\n",
        "# Count and print how many of the new samples have already been scored\n",
        "count_new_samples(DIFFDOCK_SAVE_PATH, scored_mols.keys())\n",
        "\n",
        "# Retrieve top poses for the molecules\n",
        "top_diffdock_poses = get_top_poses(DIFFDOCK_SAVE_PATH, PROTEIN_PATH, set())"
      ]
    }
  ],
  "metadata": {
    "accelerator": "GPU",
    "colab": {
      "gpuType": "T4",
      "provenance": []
    },
    "kernelspec": {
      "display_name": "Python 3",
      "name": "python3"
    },
    "language_info": {
      "codemirror_mode": {
        "name": "ipython",
        "version": 3
      },
      "file_extension": ".py",
      "mimetype": "text/x-python",
      "name": "python",
      "nbconvert_exporter": "python",
      "pygments_lexer": "ipython3",
      "version": "3.9.18"
    },
    "orig_nbformat": 4
  },
  "nbformat": 4,
  "nbformat_minor": 0
}
