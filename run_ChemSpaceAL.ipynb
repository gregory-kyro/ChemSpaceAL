{
 "cells": [
  {
   "cell_type": "code",
   "execution_count": null,
   "metadata": {},
   "outputs": [],
   "source": [
    "# Training - Pretraining\n",
    "from Training import *\n",
    "config = Config(mode='Pretraining').config_dict\n",
    "train_dataset, val_dataset = load_data(config)\n",
    "model = train_GPT(training_dataset = train_dataset, config_dict = config)"
   ]
  },
  {
   "cell_type": "code",
   "execution_count": null,
   "metadata": {},
   "outputs": [],
   "source": [
    "# Generation\n",
    "from Generation import *\n",
    "config = Config().config_dict\n",
    "generate_SMILES(config_dict=config)"
   ]
  },
  {
   "cell_type": "code",
   "execution_count": null,
   "metadata": {},
   "outputs": [],
   "source": [
    "# Sampling for Docking\n",
    "from SamplingForDocking import *\n",
    "config = Config().config_dict\n",
    "descriptors = get_descriptors(config)\n",
    "pca_transformed = project_into_pca_space(config)\n",
    "cluster_and_sample(mols=pca_transformed, config=config, n_clusters=10, n_samples=5)"
   ]
  },
  {
   "cell_type": "code",
   "execution_count": null,
   "metadata": {},
   "outputs": [],
   "source": [
    "# Docking performed in Docking.ipynb"
   ]
  },
  {
   "cell_type": "code",
   "execution_count": null,
   "metadata": {},
   "outputs": [],
   "source": [
    "# Scoring\n",
    "from Scoring import *\n",
    "config = Config().config_dict\n",
    "ligand_scores = score_ligands(config)\n",
    "plot_ligand_scores(config, ligand_scores)\n",
    "parse_and_prepare_diffdock_data(ligand_scores, config)"
   ]
  },
  {
   "cell_type": "code",
   "execution_count": null,
   "metadata": {},
   "outputs": [],
   "source": [
    "# Create Active Learning Training Set\n",
    "from CreateSetForAL import *\n",
    "config = Config().config_dict\n",
    "cluster_to_score = compute_cluster_scores(config)\n",
    "plot_mean_cluster_scores(cluster_to_score).show()\n",
    "plot_probability_distribution(cluster_to_score).show()\n",
    "good_ligands = pd.read_csv(config['path_to_good_mols'])\n",
    "training_sampled = sample_clusters_for_active_learning(cluster_to_score, config)\n",
    "df = combine_sampled_and_good_ligands(training_sampled, good_ligands, config)"
   ]
  },
  {
   "cell_type": "code",
   "execution_count": null,
   "metadata": {},
   "outputs": [],
   "source": [
    "# Training: Fine-tuning\n",
    "from Training import *\n",
    "config = Config(mode='Active Learning').config_dict\n",
    "dataset = load_data(config)\n",
    "model = train_GPT(training_dataset = dataset, config_dict = config)"
   ]
  }
 ],
 "metadata": {
  "kernelspec": {
   "display_name": "ChemSpaceAL_env",
   "language": "python",
   "name": "python3"
  },
  "language_info": {
   "codemirror_mode": {
    "name": "ipython",
    "version": 3
   },
   "file_extension": ".py",
   "mimetype": "text/x-python",
   "name": "python",
   "nbconvert_exporter": "python",
   "pygments_lexer": "ipython3",
   "version": "3.11.5"
  },
  "orig_nbformat": 4
 },
 "nbformat": 4,
 "nbformat_minor": 2
}
