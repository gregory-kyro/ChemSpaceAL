{
 "cells": [
  {
   "cell_type": "code",
   "execution_count": null,
   "metadata": {},
   "outputs": [],
   "source": [
    "!pip install -q condacolab\n",
    "import condacolab\n",
    "condacolab.install()\n",
    "import condacolab\n",
    "\n",
    "!mamba install pymol-open-source --yes\n",
    "\n",
    "def preprocess_protein(protein):\n",
    "    cmd.delete('all')\n",
    "    cmd.load(protein, 'protein')\n",
    "    cmd.h_add('protein')\n",
    "    cmd.remove('sol')\n",
    "    cmd.save(protein[:-4]+'_processed.pdb')\n",
    "preprocess_protein(PROTEIN_PATH)"
   ]
  }
 ],
 "metadata": {
  "language_info": {
   "name": "python"
  },
  "orig_nbformat": 4
 },
 "nbformat": 4,
 "nbformat_minor": 2
}
